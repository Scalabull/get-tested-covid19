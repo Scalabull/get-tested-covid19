{
 "cells": [
  {
   "cell_type": "code",
   "execution_count": 88,
   "metadata": {},
   "outputs": [],
   "source": [
    "# The following notebook can be used for more interactive usage of the preprocessing pipeline, probably only useful if you are enhancing preprocessing.\n",
    "# Google API Key, and our username and password need to be included manually\n",
    "import requests\n",
    "import os\n",
    "import re\n",
    "import googlemaps\n",
    "gmaps = googlemaps.Client(key='OMITTED')"
   ]
  },
  {
   "cell_type": "code",
   "execution_count": 89,
   "metadata": {},
   "outputs": [],
   "source": [
    "authResponse = requests.post(\"http://localhost:5000/api/v1/auth/login\", data={\"email\": \"OMITTED\",\"password\": \"OMITTED\"})\n",
    "authToken = authResponse.json()['token']\n",
    "headers = {'Authorization': 'Bearer ' + authToken}\n",
    "\n",
    "freshInboundRows = requests.get(\"http://localhost:5000/api/v1/internal/inbound/\", headers=headers)\n",
    "rows = freshInboundRows.json()"
   ]
  },
  {
   "cell_type": "code",
   "execution_count": 90,
   "metadata": {},
   "outputs": [],
   "source": [
    "def get_formatted_address(full_address):\n",
    "    if(full_address == None):\n",
    "        full_address = ''\n",
    "        \n",
    "    geocode_result = gmaps.geocode(full_address)\n",
    "                \n",
    "    if(len(geocode_result) > 0):\n",
    "        primary_result = geocode_result[0]\n",
    "        formatted_address = primary_result['formatted_address']\n",
    "        lat_lng = primary_result['geometry']['location']\n",
    "        google_place_id = primary_result['place_id']\n",
    "        \n",
    "        #NOTE: We attempted to use google's 'vicinity' for a shortened address, but it doesn't work as advertised.\n",
    "        #places_data = gmaps.place(google_place_id)\n",
    "        #print('vicinity: ', places_data['vicinity'])\n",
    "        \n",
    "        return {'formatted_address': formatted_address, 'lat_lng': lat_lng, 'google_place_id': google_place_id}\n",
    "    else:\n",
    "        return None"
   ]
  },
  {
   "cell_type": "code",
   "execution_count": 91,
   "metadata": {},
   "outputs": [],
   "source": [
    "# Returns empty string if phone is invalid\n",
    "def get_formatted_phone(phone_field):\n",
    "    if(phone_field == None):\n",
    "        phone_field = ''\n",
    "        \n",
    "    contains_phone = re.search(\"^([1]?[\\s]?[\\-]?[\\s]?)([\\(]?[\\s]?[0-9]{3}[\\s]?[\\)]?[\\s]?[\\-]{0,1}[\\s]?[0-9]{3}[\\s]?[\\-]{0,1}[\\s]?([0-9]{4}|[A-Z]{4})[\\s]?[\\-]{0,1}[\\s]?)((ext|Ext|EXT)[\\s]?[.]?[\\s]?[0-9]{1,2})?\", phone_field)\n",
    "    \n",
    "    clean_phone_digits = \"\"\n",
    "    if(contains_phone):\n",
    "        \n",
    "        clean_phone_digits = re.sub(\"\\D\", \"\", contains_phone.group(2))\n",
    "        clean_phone_digits = '({}){} {}'.format(clean_phone_digits[0:3], clean_phone_digits[3:6], clean_phone_digits[6:])\n",
    "        if(contains_phone.group(4)):\n",
    "            ext_segment = 'Ext {}'.format(re.sub(\"\\D\", \"\", contains_phone.group(4)))\n",
    "            clean_phone_digits = '{} {}'.format(clean_phone_digits, ext_segment)\n",
    "        \n",
    "    return clean_phone_digits"
   ]
  },
  {
   "cell_type": "code",
   "execution_count": 92,
   "metadata": {},
   "outputs": [],
   "source": [
    "def is_likely_drive_thru(description_field):\n",
    "    if(description_field == None):\n",
    "        description_field = ''\n",
    "        \n",
    "    drive_thru_flag = re.search('(curbside|drive thru|drive-by|drive by|drive-up|drive up|drive\\-thru|inside your car|in the car|in car)|(wait in [a-zA-Z]{0,} car)|(remain in [a-zA-Z]{0,} vehicle)', description_field.lower())\n",
    "    if(drive_thru_flag != None):\n",
    "        return True\n",
    "    return False\n",
    "            "
   ]
  },
  {
   "cell_type": "code",
   "execution_count": 93,
   "metadata": {},
   "outputs": [],
   "source": [
    "def is_likely_appointment_required(description_field):\n",
    "    if(description_field == None):\n",
    "        description_field = ''\n",
    "        \n",
    "    appt_flag = re.search('appointment|appt|schedule|pre-registration', description_field.lower())\n",
    "    if(appt_flag != None):\n",
    "        return True\n",
    "    return False"
   ]
  },
  {
   "cell_type": "code",
   "execution_count": 94,
   "metadata": {},
   "outputs": [],
   "source": [
    "def is_likely_screen_required(description_field):\n",
    "    if(description_field == None):\n",
    "        description_field = ''\n",
    "        \n",
    "    screen_flag = re.search('screen|referral|referred|referal|medical order|order from a medical provider|pre-registration|qualify|call in advance|call ahead|calling ahead|call to be approved|call first|doctor\\'s order|call ([a-z\\']{1,14}\\s?){0,5} (prior|before)|required ([a-z\\']{1,14}\\s?){0,5} virtual visits|online assessment|if your doctor|need telemedicine appointment|must receive guidance', description_field.lower())\n",
    "    if(screen_flag != None):\n",
    "        return True\n",
    "    return False"
   ]
  },
  {
   "cell_type": "code",
   "execution_count": 95,
   "metadata": {},
   "outputs": [],
   "source": [
    "# A very minimal check to weed-out obvious junk\n",
    "def is_valid_URL(description_field = \"\"):\n",
    "    if(description_field == None):\n",
    "        description_field = ''\n",
    "        \n",
    "    url_flag = re.search('^(http|www)', description_field.lower())\n",
    "    if(url_flag != None):\n",
    "        return True\n",
    "    return False"
   ]
  },
  {
   "cell_type": "code",
   "execution_count": 96,
   "metadata": {},
   "outputs": [
    {
     "name": "stdout",
     "output_type": "stream",
     "text": [
      "{'formatted_address': '320 W Pumping Station Rd #3, Quakertown, PA 18951, USA', 'lat_lng': {'lat': 40.4582455, 'lng': -75.36824279999999}, 'google_place_id': 'EjYzMjAgVyBQdW1waW5nIFN0YXRpb24gUmQgIzMsIFF1YWtlcnRvd24sIFBBIDE4OTUxLCBVU0EiHRobChYKFAoSCdegZ_BcIsSJERfa5kCtcJEXEgEz'}\n",
      "(555)123 4567\n",
      "drive thru?  False\n",
      "appt req?  False\n",
      "screen?  True\n",
      "is valid URL?  False\n",
      "{'id': 1, 'full_address': '320 W Pumping Station Road Suite 3 , Quakertown PA 18951', 'name': 'DEV COVID-19 Testing Center Richland Township', 'phone': '(555) - 123-4567', 'url': None, 'description': 'You must receive guidance via the MyLVHN Nurse Information line at 1-800-555-1234 or complete an LVHN Video Visit by downloading the MyLVHN app to be assessed and possibly tested. When you arrive at the Assess and Test office, go inside and check in with the registration desk. You will be asked to provide your mobile phone number. Then you can return to your car and wait until the Assess and Test office calls your mobile phone, letting you know you can be seen.', 'createdAt': '2020-05-17T14:22:00.990Z', 'updatedAt': '2020-05-17T14:22:00.990Z'}\n"
     ]
    }
   ],
   "source": [
    "for row in rows:\n",
    "    #Extract structured fields from full_address\n",
    "    \n",
    "    address_components = get_formatted_address(row['full_address'])\n",
    "    formatted_phone = get_formatted_phone(row['phone'])\n",
    "    drive_thru = is_likely_drive_thru(row['description'])\n",
    "    app_required = is_likely_appointment_required(row['description'])\n",
    "    screen_required = is_likely_screen_required(row['description'])\n",
    "    valid_url_flag = is_valid_URL(row['url'])\n",
    "    \n",
    "    print(address_components)\n",
    "    print(formatted_phone)\n",
    "    print('drive thru? ', drive_thru)\n",
    "    print('appt req? ', app_required)\n",
    "    print('screen? ', screen_required)\n",
    "    print('is valid URL? ', valid_url_flag)\n",
    "    print(row)\n",
    "    break"
   ]
  },
  {
   "cell_type": "code",
   "execution_count": null,
   "metadata": {},
   "outputs": [],
   "source": []
  }
 ],
 "metadata": {
  "kernelspec": {
   "display_name": "Python 3",
   "language": "python",
   "name": "python3"
  },
  "language_info": {
   "codemirror_mode": {
    "name": "ipython",
    "version": 3
   },
   "file_extension": ".py",
   "mimetype": "text/x-python",
   "name": "python",
   "nbconvert_exporter": "python",
   "pygments_lexer": "ipython3",
   "version": "3.6.5"
  }
 },
 "nbformat": 4,
 "nbformat_minor": 2
}